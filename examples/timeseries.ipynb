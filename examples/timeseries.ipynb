{
 "cells": [
  {
   "cell_type": "code",
   "execution_count": 1,
   "metadata": {},
   "outputs": [
    {
     "name": "stdout",
     "output_type": "stream",
     "text": [
      "/Users/mourad/workspace/polyaxon\n"
     ]
    }
   ],
   "source": [
    "cd .."
   ]
  },
  {
   "cell_type": "code",
   "execution_count": 3,
   "metadata": {},
   "outputs": [
    {
     "name": "stdout",
     "output_type": "stream",
     "text": [
      "INFO:tensorflow:Using config: {'_model_dir': '/tmp/polyaxon_logs/sin_cos', '_session_config': None, '_tf_random_seed': 1, '_keep_checkpoint_max': 5, '_save_checkpoints_secs': None, '_keep_checkpoint_every_n_hours': 4, '_save_summary_steps': 100, '_tf_config': gpu_options {\n",
      "  per_process_gpu_memory_fraction: 1.0\n",
      "}\n",
      ", '_save_checkpoints_steps': 100, '_master': '', '_num_worker_replicas': 0, '_evaluation_master': '', '_task_type': None, '_num_ps_replicas': 0, '_is_chief': True, '_task_id': 0, '_cluster_spec': <tensorflow.python.training.server_lib.ClusterSpec object at 0x1139e0d68>, '_environment': 'local'}\n"
     ]
    }
   ],
   "source": [
    "%matplotlib inline\n",
    "import matplotlib.pyplot as plt\n",
    "import numpy as np\n",
    "\n",
    "from tensorflow.python.estimator.inputs.inputs import numpy_input_fn, pandas_input_fn\n",
    "\n",
    "from examples.timeseries import create_experiment, generate_data, sin_cos\n",
    "\n",
    "TIMESTEPS = 7\n",
    "X, y = generate_data(sin_cos, np.linspace(0, 100, 10000, dtype=np.float32), TIMESTEPS, seperate=False)\n",
    "xp = create_experiment('/tmp/polyaxon_logs/sin_cos', X, y, output_units=2)"
   ]
  },
  {
   "cell_type": "code",
   "execution_count": 5,
   "metadata": {},
   "outputs": [
    {
     "name": "stdout",
     "output_type": "stream",
     "text": [
      "INFO:tensorflow:Training model for 100 steps\n",
      "WARNING:tensorflow:enqueue_data was called with shuffle=False and num_threads > 1. This will create multiple threads, all reading the array/dataframe in order. If you want examples read in order, use one thread; if you want multiple threads, enable shuffling.\n",
      "INFO:tensorflow:Create CheckpointSaverHook.\n",
      "INFO:tensorflow:Saving checkpoints for 1 into /tmp/polyaxon_logs/sin_cos/model.ckpt.\n",
      "INFO:tensorflow:step = 1, loss = 0.498125\n",
      "INFO:tensorflow:Saving checkpoints for 100 into /tmp/polyaxon_logs/sin_cos/model.ckpt.\n",
      "INFO:tensorflow:Loss for final step: 0.00256331.\n",
      "INFO:tensorflow:Evaluating model now.\n",
      "WARNING:tensorflow:enqueue_data was called with shuffle=False and num_threads > 1. This will create multiple threads, all reading the array/dataframe in order. If you want examples read in order, use one thread; if you want multiple threads, enable shuffling.\n",
      "INFO:tensorflow:Starting evaluation at 2017-06-29-10:34:06\n",
      "INFO:tensorflow:Restoring parameters from /tmp/polyaxon_logs/sin_cos/model.ckpt-100\n",
      "INFO:tensorflow:Evaluation [1/10]\n",
      "INFO:tensorflow:Evaluation [2/10]\n",
      "INFO:tensorflow:Evaluation [3/10]\n",
      "INFO:tensorflow:Evaluation [4/10]\n",
      "INFO:tensorflow:Evaluation [5/10]\n",
      "INFO:tensorflow:Evaluation [6/10]\n",
      "INFO:tensorflow:Evaluation [7/10]\n",
      "INFO:tensorflow:Evaluation [8/10]\n",
      "INFO:tensorflow:Evaluation [9/10]\n",
      "INFO:tensorflow:Evaluation [10/10]\n",
      "INFO:tensorflow:Finished evaluation at 2017-06-29-10:34:07\n",
      "INFO:tensorflow:Saving dict for global step 100: global_step = 100, loss = 0.000548537, streaming_mean_absolute_error = 0.0207378, streaming_root_mean_squared_error = 0.0234209\n",
      "INFO:tensorflow:Training model for 100 steps\n",
      "WARNING:tensorflow:enqueue_data was called with shuffle=False and num_threads > 1. This will create multiple threads, all reading the array/dataframe in order. If you want examples read in order, use one thread; if you want multiple threads, enable shuffling.\n",
      "INFO:tensorflow:Create CheckpointSaverHook.\n",
      "INFO:tensorflow:Restoring parameters from /tmp/polyaxon_logs/sin_cos/model.ckpt-100\n",
      "INFO:tensorflow:Saving checkpoints for 101 into /tmp/polyaxon_logs/sin_cos/model.ckpt.\n",
      "INFO:tensorflow:step = 101, loss = 0.00018968\n",
      "INFO:tensorflow:Saving checkpoints for 200 into /tmp/polyaxon_logs/sin_cos/model.ckpt.\n",
      "INFO:tensorflow:Loss for final step: 0.000168403.\n",
      "INFO:tensorflow:Evaluating model now.\n",
      "WARNING:tensorflow:enqueue_data was called with shuffle=False and num_threads > 1. This will create multiple threads, all reading the array/dataframe in order. If you want examples read in order, use one thread; if you want multiple threads, enable shuffling.\n",
      "INFO:tensorflow:Starting evaluation at 2017-06-29-10:34:23\n",
      "INFO:tensorflow:Restoring parameters from /tmp/polyaxon_logs/sin_cos/model.ckpt-200\n",
      "INFO:tensorflow:Evaluation [1/10]\n",
      "INFO:tensorflow:Evaluation [2/10]\n",
      "INFO:tensorflow:Evaluation [3/10]\n",
      "INFO:tensorflow:Evaluation [4/10]\n",
      "INFO:tensorflow:Evaluation [5/10]\n",
      "INFO:tensorflow:Evaluation [6/10]\n",
      "INFO:tensorflow:Evaluation [7/10]\n",
      "INFO:tensorflow:Evaluation [8/10]\n",
      "INFO:tensorflow:Evaluation [9/10]\n",
      "INFO:tensorflow:Evaluation [10/10]\n",
      "INFO:tensorflow:Finished evaluation at 2017-06-29-10:34:24\n",
      "INFO:tensorflow:Saving dict for global step 200: global_step = 200, loss = 0.000318797, streaming_mean_absolute_error = 0.0160757, streaming_root_mean_squared_error = 0.0178549\n",
      "INFO:tensorflow:Training model for 100 steps\n",
      "WARNING:tensorflow:enqueue_data was called with shuffle=False and num_threads > 1. This will create multiple threads, all reading the array/dataframe in order. If you want examples read in order, use one thread; if you want multiple threads, enable shuffling.\n",
      "INFO:tensorflow:Create CheckpointSaverHook.\n",
      "INFO:tensorflow:Restoring parameters from /tmp/polyaxon_logs/sin_cos/model.ckpt-200\n",
      "INFO:tensorflow:Saving checkpoints for 201 into /tmp/polyaxon_logs/sin_cos/model.ckpt.\n",
      "INFO:tensorflow:step = 201, loss = 0.00011954\n",
      "INFO:tensorflow:Saving checkpoints for 300 into /tmp/polyaxon_logs/sin_cos/model.ckpt.\n",
      "INFO:tensorflow:Loss for final step: 0.000177034.\n",
      "INFO:tensorflow:Evaluating model now.\n",
      "WARNING:tensorflow:enqueue_data was called with shuffle=False and num_threads > 1. This will create multiple threads, all reading the array/dataframe in order. If you want examples read in order, use one thread; if you want multiple threads, enable shuffling.\n",
      "INFO:tensorflow:Starting evaluation at 2017-06-29-10:34:38\n",
      "INFO:tensorflow:Restoring parameters from /tmp/polyaxon_logs/sin_cos/model.ckpt-300\n",
      "INFO:tensorflow:Evaluation [1/10]\n",
      "INFO:tensorflow:Evaluation [2/10]\n",
      "INFO:tensorflow:Evaluation [3/10]\n",
      "INFO:tensorflow:Evaluation [4/10]\n",
      "INFO:tensorflow:Evaluation [5/10]\n",
      "INFO:tensorflow:Evaluation [6/10]\n",
      "INFO:tensorflow:Evaluation [7/10]\n",
      "INFO:tensorflow:Evaluation [8/10]\n",
      "INFO:tensorflow:Evaluation [9/10]\n",
      "INFO:tensorflow:Evaluation [10/10]\n",
      "INFO:tensorflow:Finished evaluation at 2017-06-29-10:34:39\n",
      "INFO:tensorflow:Saving dict for global step 300: global_step = 300, loss = 0.000137195, streaming_mean_absolute_error = 0.00988659, streaming_root_mean_squared_error = 0.011713\n",
      "INFO:tensorflow:Training model for 100 steps\n",
      "WARNING:tensorflow:enqueue_data was called with shuffle=False and num_threads > 1. This will create multiple threads, all reading the array/dataframe in order. If you want examples read in order, use one thread; if you want multiple threads, enable shuffling.\n",
      "INFO:tensorflow:Create CheckpointSaverHook.\n",
      "INFO:tensorflow:Restoring parameters from /tmp/polyaxon_logs/sin_cos/model.ckpt-300\n",
      "INFO:tensorflow:Saving checkpoints for 301 into /tmp/polyaxon_logs/sin_cos/model.ckpt.\n",
      "INFO:tensorflow:step = 301, loss = 6.75923e-05\n",
      "INFO:tensorflow:Saving checkpoints for 400 into /tmp/polyaxon_logs/sin_cos/model.ckpt.\n",
      "INFO:tensorflow:Loss for final step: 9.91758e-05.\n",
      "INFO:tensorflow:Evaluating model now.\n",
      "WARNING:tensorflow:enqueue_data was called with shuffle=False and num_threads > 1. This will create multiple threads, all reading the array/dataframe in order. If you want examples read in order, use one thread; if you want multiple threads, enable shuffling.\n",
      "INFO:tensorflow:Starting evaluation at 2017-06-29-10:34:56\n",
      "INFO:tensorflow:Restoring parameters from /tmp/polyaxon_logs/sin_cos/model.ckpt-400\n",
      "INFO:tensorflow:Evaluation [1/10]\n",
      "INFO:tensorflow:Evaluation [2/10]\n",
      "INFO:tensorflow:Evaluation [3/10]\n",
      "INFO:tensorflow:Evaluation [4/10]\n",
      "INFO:tensorflow:Evaluation [5/10]\n",
      "INFO:tensorflow:Evaluation [6/10]\n",
      "INFO:tensorflow:Evaluation [7/10]\n",
      "INFO:tensorflow:Evaluation [8/10]\n",
      "INFO:tensorflow:Evaluation [9/10]\n",
      "INFO:tensorflow:Evaluation [10/10]\n",
      "INFO:tensorflow:Finished evaluation at 2017-06-29-10:34:57\n",
      "INFO:tensorflow:Saving dict for global step 400: global_step = 400, loss = 8.8702e-05, streaming_mean_absolute_error = 0.0080921, streaming_root_mean_squared_error = 0.00941817\n",
      "INFO:tensorflow:Training model for 100 steps\n",
      "WARNING:tensorflow:enqueue_data was called with shuffle=False and num_threads > 1. This will create multiple threads, all reading the array/dataframe in order. If you want examples read in order, use one thread; if you want multiple threads, enable shuffling.\n",
      "INFO:tensorflow:Create CheckpointSaverHook.\n",
      "INFO:tensorflow:Restoring parameters from /tmp/polyaxon_logs/sin_cos/model.ckpt-400\n",
      "INFO:tensorflow:Saving checkpoints for 401 into /tmp/polyaxon_logs/sin_cos/model.ckpt.\n",
      "INFO:tensorflow:step = 401, loss = 2.41169e-05\n",
      "INFO:tensorflow:Saving checkpoints for 500 into /tmp/polyaxon_logs/sin_cos/model.ckpt.\n",
      "INFO:tensorflow:Loss for final step: 0.000138305.\n",
      "INFO:tensorflow:Evaluating model now.\n",
      "WARNING:tensorflow:enqueue_data was called with shuffle=False and num_threads > 1. This will create multiple threads, all reading the array/dataframe in order. If you want examples read in order, use one thread; if you want multiple threads, enable shuffling.\n",
      "INFO:tensorflow:Starting evaluation at 2017-06-29-10:35:12\n",
      "INFO:tensorflow:Restoring parameters from /tmp/polyaxon_logs/sin_cos/model.ckpt-500\n",
      "INFO:tensorflow:Evaluation [1/10]\n",
      "INFO:tensorflow:Evaluation [2/10]\n",
      "INFO:tensorflow:Evaluation [3/10]\n",
      "INFO:tensorflow:Evaluation [4/10]\n",
      "INFO:tensorflow:Evaluation [5/10]\n",
      "INFO:tensorflow:Evaluation [6/10]\n",
      "INFO:tensorflow:Evaluation [7/10]\n",
      "INFO:tensorflow:Evaluation [8/10]\n"
     ]
    },
    {
     "name": "stdout",
     "output_type": "stream",
     "text": [
      "INFO:tensorflow:Evaluation [9/10]\n",
      "INFO:tensorflow:Evaluation [10/10]\n",
      "INFO:tensorflow:Finished evaluation at 2017-06-29-10:35:13\n",
      "INFO:tensorflow:Saving dict for global step 500: global_step = 500, loss = 5.86872e-05, streaming_mean_absolute_error = 0.00665366, streaming_root_mean_squared_error = 0.00766076\n",
      "INFO:tensorflow:Training model for 100 steps\n",
      "WARNING:tensorflow:enqueue_data was called with shuffle=False and num_threads > 1. This will create multiple threads, all reading the array/dataframe in order. If you want examples read in order, use one thread; if you want multiple threads, enable shuffling.\n",
      "INFO:tensorflow:Create CheckpointSaverHook.\n",
      "INFO:tensorflow:Restoring parameters from /tmp/polyaxon_logs/sin_cos/model.ckpt-500\n",
      "INFO:tensorflow:Saving checkpoints for 501 into /tmp/polyaxon_logs/sin_cos/model.ckpt.\n",
      "INFO:tensorflow:step = 501, loss = 1.50659e-05\n",
      "INFO:tensorflow:Saving checkpoints for 600 into /tmp/polyaxon_logs/sin_cos/model.ckpt.\n",
      "INFO:tensorflow:Loss for final step: 8.52785e-05.\n",
      "INFO:tensorflow:Evaluating model now.\n",
      "WARNING:tensorflow:enqueue_data was called with shuffle=False and num_threads > 1. This will create multiple threads, all reading the array/dataframe in order. If you want examples read in order, use one thread; if you want multiple threads, enable shuffling.\n",
      "INFO:tensorflow:Starting evaluation at 2017-06-29-10:35:28\n",
      "INFO:tensorflow:Restoring parameters from /tmp/polyaxon_logs/sin_cos/model.ckpt-600\n",
      "INFO:tensorflow:Evaluation [1/10]\n",
      "INFO:tensorflow:Evaluation [2/10]\n",
      "INFO:tensorflow:Evaluation [3/10]\n",
      "INFO:tensorflow:Evaluation [4/10]\n",
      "INFO:tensorflow:Evaluation [5/10]\n",
      "INFO:tensorflow:Evaluation [6/10]\n",
      "INFO:tensorflow:Evaluation [7/10]\n",
      "INFO:tensorflow:Evaluation [8/10]\n",
      "INFO:tensorflow:Evaluation [9/10]\n",
      "INFO:tensorflow:Evaluation [10/10]\n",
      "INFO:tensorflow:Finished evaluation at 2017-06-29-10:35:29\n",
      "INFO:tensorflow:Saving dict for global step 600: global_step = 600, loss = 5.46841e-05, streaming_mean_absolute_error = 0.00634086, streaming_root_mean_squared_error = 0.00739487\n",
      "INFO:tensorflow:Training model for 100 steps\n",
      "WARNING:tensorflow:enqueue_data was called with shuffle=False and num_threads > 1. This will create multiple threads, all reading the array/dataframe in order. If you want examples read in order, use one thread; if you want multiple threads, enable shuffling.\n",
      "INFO:tensorflow:Create CheckpointSaverHook.\n",
      "INFO:tensorflow:Restoring parameters from /tmp/polyaxon_logs/sin_cos/model.ckpt-600\n",
      "INFO:tensorflow:Saving checkpoints for 601 into /tmp/polyaxon_logs/sin_cos/model.ckpt.\n",
      "INFO:tensorflow:step = 601, loss = 1.33563e-05\n",
      "INFO:tensorflow:Saving checkpoints for 700 into /tmp/polyaxon_logs/sin_cos/model.ckpt.\n",
      "INFO:tensorflow:Loss for final step: 8.79115e-05.\n",
      "INFO:tensorflow:Evaluating model now.\n",
      "WARNING:tensorflow:enqueue_data was called with shuffle=False and num_threads > 1. This will create multiple threads, all reading the array/dataframe in order. If you want examples read in order, use one thread; if you want multiple threads, enable shuffling.\n",
      "INFO:tensorflow:Starting evaluation at 2017-06-29-10:35:47\n",
      "INFO:tensorflow:Restoring parameters from /tmp/polyaxon_logs/sin_cos/model.ckpt-700\n",
      "INFO:tensorflow:Evaluation [1/10]\n",
      "INFO:tensorflow:Evaluation [2/10]\n",
      "INFO:tensorflow:Evaluation [3/10]\n",
      "INFO:tensorflow:Evaluation [4/10]\n",
      "INFO:tensorflow:Evaluation [5/10]\n",
      "INFO:tensorflow:Evaluation [6/10]\n",
      "INFO:tensorflow:Evaluation [7/10]\n",
      "INFO:tensorflow:Evaluation [8/10]\n",
      "INFO:tensorflow:Evaluation [9/10]\n",
      "INFO:tensorflow:Evaluation [10/10]\n",
      "INFO:tensorflow:Finished evaluation at 2017-06-29-10:35:47\n",
      "INFO:tensorflow:Saving dict for global step 700: global_step = 700, loss = 4.40902e-05, streaming_mean_absolute_error = 0.00578875, streaming_root_mean_squared_error = 0.00664005\n",
      "INFO:tensorflow:Training model for 100 steps\n",
      "WARNING:tensorflow:enqueue_data was called with shuffle=False and num_threads > 1. This will create multiple threads, all reading the array/dataframe in order. If you want examples read in order, use one thread; if you want multiple threads, enable shuffling.\n",
      "INFO:tensorflow:Create CheckpointSaverHook.\n",
      "INFO:tensorflow:Restoring parameters from /tmp/polyaxon_logs/sin_cos/model.ckpt-700\n",
      "INFO:tensorflow:Saving checkpoints for 701 into /tmp/polyaxon_logs/sin_cos/model.ckpt.\n",
      "INFO:tensorflow:step = 701, loss = 1.5612e-05\n",
      "INFO:tensorflow:Saving checkpoints for 800 into /tmp/polyaxon_logs/sin_cos/model.ckpt.\n",
      "INFO:tensorflow:Loss for final step: 7.43788e-05.\n",
      "INFO:tensorflow:Evaluating model now.\n",
      "WARNING:tensorflow:enqueue_data was called with shuffle=False and num_threads > 1. This will create multiple threads, all reading the array/dataframe in order. If you want examples read in order, use one thread; if you want multiple threads, enable shuffling.\n",
      "INFO:tensorflow:Starting evaluation at 2017-06-29-10:36:00\n",
      "INFO:tensorflow:Restoring parameters from /tmp/polyaxon_logs/sin_cos/model.ckpt-800\n",
      "INFO:tensorflow:Evaluation [1/10]\n",
      "INFO:tensorflow:Evaluation [2/10]\n",
      "INFO:tensorflow:Evaluation [3/10]\n",
      "INFO:tensorflow:Evaluation [4/10]\n",
      "INFO:tensorflow:Evaluation [5/10]\n",
      "INFO:tensorflow:Evaluation [6/10]\n",
      "INFO:tensorflow:Evaluation [7/10]\n",
      "INFO:tensorflow:Evaluation [8/10]\n",
      "INFO:tensorflow:Evaluation [9/10]\n",
      "INFO:tensorflow:Evaluation [10/10]\n",
      "INFO:tensorflow:Finished evaluation at 2017-06-29-10:36:01\n",
      "INFO:tensorflow:Saving dict for global step 800: global_step = 800, loss = 3.73055e-05, streaming_mean_absolute_error = 0.00511598, streaming_root_mean_squared_error = 0.00610782\n",
      "INFO:tensorflow:Training model for 100 steps\n",
      "WARNING:tensorflow:enqueue_data was called with shuffle=False and num_threads > 1. This will create multiple threads, all reading the array/dataframe in order. If you want examples read in order, use one thread; if you want multiple threads, enable shuffling.\n",
      "INFO:tensorflow:Create CheckpointSaverHook.\n",
      "INFO:tensorflow:Restoring parameters from /tmp/polyaxon_logs/sin_cos/model.ckpt-800\n",
      "INFO:tensorflow:Saving checkpoints for 801 into /tmp/polyaxon_logs/sin_cos/model.ckpt.\n",
      "INFO:tensorflow:step = 801, loss = 9.03887e-06\n",
      "INFO:tensorflow:Saving checkpoints for 900 into /tmp/polyaxon_logs/sin_cos/model.ckpt.\n",
      "INFO:tensorflow:Loss for final step: 3.00329e-05.\n",
      "INFO:tensorflow:Evaluating model now.\n",
      "WARNING:tensorflow:enqueue_data was called with shuffle=False and num_threads > 1. This will create multiple threads, all reading the array/dataframe in order. If you want examples read in order, use one thread; if you want multiple threads, enable shuffling.\n",
      "INFO:tensorflow:Starting evaluation at 2017-06-29-10:36:14\n",
      "INFO:tensorflow:Restoring parameters from /tmp/polyaxon_logs/sin_cos/model.ckpt-900\n",
      "INFO:tensorflow:Evaluation [1/10]\n",
      "INFO:tensorflow:Evaluation [2/10]\n",
      "INFO:tensorflow:Evaluation [3/10]\n",
      "INFO:tensorflow:Evaluation [4/10]\n",
      "INFO:tensorflow:Evaluation [5/10]\n",
      "INFO:tensorflow:Evaluation [6/10]\n",
      "INFO:tensorflow:Evaluation [7/10]\n",
      "INFO:tensorflow:Evaluation [8/10]\n",
      "INFO:tensorflow:Evaluation [9/10]\n",
      "INFO:tensorflow:Evaluation [10/10]\n",
      "INFO:tensorflow:Finished evaluation at 2017-06-29-10:36:15\n",
      "INFO:tensorflow:Saving dict for global step 900: global_step = 900, loss = 3.25956e-05, streaming_mean_absolute_error = 0.00495437, streaming_root_mean_squared_error = 0.00570926\n",
      "INFO:tensorflow:Training model for 100 steps\n",
      "WARNING:tensorflow:enqueue_data was called with shuffle=False and num_threads > 1. This will create multiple threads, all reading the array/dataframe in order. If you want examples read in order, use one thread; if you want multiple threads, enable shuffling.\n",
      "INFO:tensorflow:Create CheckpointSaverHook.\n",
      "INFO:tensorflow:Restoring parameters from /tmp/polyaxon_logs/sin_cos/model.ckpt-900\n",
      "INFO:tensorflow:Saving checkpoints for 901 into /tmp/polyaxon_logs/sin_cos/model.ckpt.\n",
      "INFO:tensorflow:step = 901, loss = 1.42765e-05\n",
      "INFO:tensorflow:Saving checkpoints for 1000 into /tmp/polyaxon_logs/sin_cos/model.ckpt.\n",
      "INFO:tensorflow:Loss for final step: 2.9014e-05.\n",
      "INFO:tensorflow:Evaluating model now.\n",
      "WARNING:tensorflow:enqueue_data was called with shuffle=False and num_threads > 1. This will create multiple threads, all reading the array/dataframe in order. If you want examples read in order, use one thread; if you want multiple threads, enable shuffling.\n"
     ]
    },
    {
     "name": "stdout",
     "output_type": "stream",
     "text": [
      "INFO:tensorflow:Starting evaluation at 2017-06-29-10:36:25\n",
      "INFO:tensorflow:Restoring parameters from /tmp/polyaxon_logs/sin_cos/model.ckpt-1000\n",
      "INFO:tensorflow:Evaluation [1/10]\n",
      "INFO:tensorflow:Evaluation [2/10]\n",
      "INFO:tensorflow:Evaluation [3/10]\n",
      "INFO:tensorflow:Evaluation [4/10]\n",
      "INFO:tensorflow:Evaluation [5/10]\n",
      "INFO:tensorflow:Evaluation [6/10]\n",
      "INFO:tensorflow:Evaluation [7/10]\n",
      "INFO:tensorflow:Evaluation [8/10]\n",
      "INFO:tensorflow:Evaluation [9/10]\n",
      "INFO:tensorflow:Evaluation [10/10]\n",
      "INFO:tensorflow:Finished evaluation at 2017-06-29-10:36:25\n",
      "INFO:tensorflow:Saving dict for global step 1000: global_step = 1000, loss = 2.8089e-05, streaming_mean_absolute_error = 0.00460688, streaming_root_mean_squared_error = 0.0052999\n",
      "INFO:tensorflow:Stop training model as max steps reached\n"
     ]
    },
    {
     "data": {
      "text/plain": [
       "({'global_step': 1000,\n",
       "  'loss': 2.8088974e-05,\n",
       "  'streaming_mean_absolute_error': 0.0046068826,\n",
       "  'streaming_root_mean_squared_error': 0.0052999035},\n",
       " [])"
      ]
     },
     "execution_count": 5,
     "metadata": {},
     "output_type": "execute_result"
    }
   ],
   "source": [
    "xp.continuous_train_and_evaluate()"
   ]
  },
  {
   "cell_type": "code",
   "execution_count": 8,
   "metadata": {},
   "outputs": [
    {
     "name": "stdout",
     "output_type": "stream",
     "text": [
      "INFO:tensorflow:Restoring parameters from /tmp/polyaxon_logs/sin_cos/model.ckpt-1000\n"
     ]
    },
    {
     "data": {
      "text/plain": [
       "<matplotlib.legend.Legend at 0x115b5a358>"
      ]
     },
     "execution_count": 8,
     "metadata": {},
     "output_type": "execute_result"
    },
    {
     "data": {
      "image/png": "[encoded data removed]",
      "text/plain": [
       "<matplotlib.figure.Figure at 0x113bf3080>"
      ]
     },
     "metadata": {},
     "output_type": "display_data"
    }
   ],
   "source": [
    "predicted = [i['results'] for i in xp.estimator.predict(numpy_input_fn({'x': X['test']}, shuffle=False))]\n",
    "plot_predicted = plt.plot(predicted, label='predicted')\n",
    "plot_test = plt.plot(y['test'], label='test')\n",
    "plt.legend(handles=plot_predicted+plot_test)"
   ]
  },
  {
   "cell_type": "code",
   "execution_count": null,
   "metadata": {
    "collapsed": true
   },
   "outputs": [],
   "source": []
  }
 ],
 "metadata": {
  "kernelspec": {
   "display_name": "Python 3",
   "language": "python",
   "name": "python3"
  },
  "language_info": {
   "codemirror_mode": {
    "name": "ipython",
    "version": 3
   },
   "file_extension": ".py",
   "mimetype": "text/x-python",
   "name": "python",
   "nbconvert_exporter": "python",
   "pygments_lexer": "ipython3",
   "version": "3.5.1"
  }
 },
 "nbformat": 4,
 "nbformat_minor": 1
}
